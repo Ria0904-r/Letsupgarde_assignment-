{
 "cells": [
  {
   "cell_type": "raw",
   "metadata": {},
   "source": [
    "1)quick sort:- best(O(nlogn)) average(O(nlogn)) worst(O(n^2))\n",
    "2)bubble sort:- best(O(n))  average(O(n^2))  worst(O(n^2))\n",
    "3)insertion sort:- best(O(n))  average(O(n^2))  worst(O(n^2))\n",
    "4)selection sort:- best(O(n^2))  average(O(n^2))  worst(O(n^2))\n",
    "5)merge sort:-  best(O(nlogn)) average(O(nlogn)) worst(O(nlogn))\n"
   ]
  },
  {
   "cell_type": "raw",
   "metadata": {},
   "source": [
    "selection sort"
   ]
  },
  {
   "cell_type": "code",
   "execution_count": 5,
   "metadata": {},
   "outputs": [
    {
     "name": "stdout",
     "output_type": "stream",
     "text": [
      "Enter values: 1 9 3 7 5\n",
      "1\n",
      "3\n",
      "5\n",
      "7\n",
      "9\n"
     ]
    }
   ],
   "source": [
    "a=[int(k) for k in input('Enter values: ').split()]\n",
    "for i in range(len(a)):\n",
    "    min_=i\n",
    "    for j in range(i+1,len(a)):\n",
    "        if a[min_]>a[j]:\n",
    "            min_=j\n",
    "    a[i],a[min_]=a[min_],a[i]\n",
    "for i in range(len(a)):\n",
    "    print(a[i])\n",
    "    "
   ]
  },
  {
   "cell_type": "raw",
   "metadata": {},
   "source": [
    "implementing a pop operation in a stack"
   ]
  },
  {
   "cell_type": "code",
   "execution_count": 14,
   "metadata": {},
   "outputs": [
    {
     "name": "stdout",
     "output_type": "stream",
     "text": [
      "initial stack\n",
      "[10, 20, 30]\n",
      "number poped out of the stack is: 30\n",
      "final stack\n",
      "[10, 20]\n"
     ]
    }
   ],
   "source": [
    "stack = []\n",
    "\n",
    "stack.append(10)\n",
    "stack.append(20)\n",
    "stack.append(30)\n",
    "\n",
    "print(\"initial stack\")\n",
    "print(stack)\n",
    "\n",
    "print(\"number poped out of the stack is:\",stack.pop())\n",
    "\n",
    "print(\"final stack\")\n",
    "print(stack)\n",
    "\n"
   ]
  },
  {
   "cell_type": "raw",
   "metadata": {},
   "source": [
    "Implement dequeue operation of the queue"
   ]
  },
  {
   "cell_type": "code",
   "execution_count": 20,
   "metadata": {},
   "outputs": [
    {
     "name": "stdout",
     "output_type": "stream",
     "text": [
      "initial queue\n",
      "deque([10, 20, 30])\n",
      "elemnet dequed from the elment:  10\n",
      "the final queue  is: deque([20, 30])\n"
     ]
    }
   ],
   "source": [
    "from collections import deque\n",
    "d=deque()\n",
    "d.append(10)\n",
    "d.append(20)\n",
    "d.append(30)\n",
    "\n",
    "print(\"initial queue\")\n",
    "print(d)\n",
    "\n",
    "print(\"elemnet dequed from the elment: \",d.popleft())\n",
    "\n",
    "print(\"the final queue  is:\",d)"
   ]
  },
  {
   "cell_type": "code",
   "execution_count": null,
   "metadata": {},
   "outputs": [],
   "source": []
  }
 ],
 "metadata": {
  "kernelspec": {
   "display_name": "Python 3",
   "language": "python",
   "name": "python3"
  },
  "language_info": {
   "codemirror_mode": {
    "name": "ipython",
    "version": 3
   },
   "file_extension": ".py",
   "mimetype": "text/x-python",
   "name": "python",
   "nbconvert_exporter": "python",
   "pygments_lexer": "ipython3",
   "version": "3.7.6"
  }
 },
 "nbformat": 4,
 "nbformat_minor": 4
}
