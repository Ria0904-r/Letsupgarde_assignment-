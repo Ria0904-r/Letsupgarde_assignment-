{
 "cells": [
  {
   "cell_type": "code",
   "execution_count": 1,
   "metadata": {},
   "outputs": [
    {
     "name": "stdout",
     "output_type": "stream",
     "text": [
      "enter values:10 12 100 1000\n",
      "12000000\n",
      "Do you want to repeat(y/n)y\n",
      "enter values:100 121 1000000000000000\n",
      "12100000000000000000\n",
      "Do you want to repeat(y/n)y\n",
      "enter values:10 100 1000\n",
      "1000000\n",
      "Do you want to repeat(y/n)n\n"
     ]
    }
   ],
   "source": [
    "while True:\n",
    "    a=[int(i) for i in input(\"enter values:\").split()]\n",
    "    def multiply(a):\n",
    "        result=1\n",
    "        for x in a:\n",
    "            result=result*x\n",
    "        return result  \n",
    "    print(multiply(a))\n",
    "    if input('Do you want to repeat(y/n)') == 'n':\n",
    "           break"
   ]
  },
  {
   "cell_type": "raw",
   "metadata": {},
   "source": [
    "Implement push, pop and find the minimum element in a stack in O(1) time complexity."
   ]
  },
  {
   "cell_type": "code",
   "execution_count": 35,
   "metadata": {},
   "outputs": [
    {
     "name": "stdout",
     "output_type": "stream",
     "text": [
      "[10, 20, 30, 0, 60, 19, 8, 90]\n",
      "60\n"
     ]
    }
   ],
   "source": [
    "class Stack:\n",
    "    def __init__(self):\n",
    "        self.items = []\n",
    "    \n",
    "    def push(self, item):\n",
    "         self.items.append(item)\n",
    "\n",
    "    def pop(self):\n",
    "         return self.items.pop()\n",
    "\n",
    "    def peek(self):\n",
    "         return print(self.items)\n",
    "    \n",
    "    def mid(self):\n",
    "        print(self.items[int(len(self.items)/2)])\n",
    "        \n",
    "d=Stack()\n",
    "d.push(10)\n",
    "d.push(20)\n",
    "d.push(30)\n",
    "d.push(0)\n",
    "d.push(60)\n",
    "d.push(19)\n",
    "d.push(8)\n",
    "d.push(90)\n",
    "d.peek()\n",
    "\n",
    "d.mid()"
   ]
  },
  {
   "cell_type": "code",
   "execution_count": null,
   "metadata": {},
   "outputs": [],
   "source": []
  }
 ],
 "metadata": {
  "kernelspec": {
   "display_name": "Python 3",
   "language": "python",
   "name": "python3"
  },
  "language_info": {
   "codemirror_mode": {
    "name": "ipython",
    "version": 3
   },
   "file_extension": ".py",
   "mimetype": "text/x-python",
   "name": "python",
   "nbconvert_exporter": "python",
   "pygments_lexer": "ipython3",
   "version": "3.7.6"
  }
 },
 "nbformat": 4,
 "nbformat_minor": 4
}
